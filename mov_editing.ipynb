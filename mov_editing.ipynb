{
  "cells": [
    {
      "cell_type": "markdown",
      "metadata": {
        "id": "view-in-github",
        "colab_type": "text"
      },
      "source": [
        "<a href=\"https://colab.research.google.com/github/KimYangkon/checkdata/blob/main/mov_editing.ipynb\" target=\"_parent\"><img src=\"https://colab.research.google.com/assets/colab-badge.svg\" alt=\"Open In Colab\"/></a>"
      ]
    },
    {
      "cell_type": "code",
      "execution_count": 1,
      "metadata": {
        "colab": {
          "base_uri": "https://localhost:8080/"
        },
        "id": "PN_7B840eKCs",
        "outputId": "72e6a8ab-81a3-4a70-84e8-1efbb3821e8f"
      },
      "outputs": [
        {
          "output_type": "stream",
          "name": "stdout",
          "text": [
            "Mounted at /content/drive\n"
          ]
        }
      ],
      "source": [
        "from google.colab import drive # connect google drive\n",
        "drive.mount('/content/drive')"
      ]
    },
    {
      "cell_type": "code",
      "execution_count": null,
      "metadata": {
        "id": "_NkoO8J6eU8y"
      },
      "outputs": [],
      "source": [
        "!pip install pafy pytube youtube_dl\n",
        "import pafy, pytube, glob, cv2  # cv2.__version__\n",
        "from google.colab import files"
      ]
    },
    {
      "cell_type": "code",
      "execution_count": null,
      "metadata": {
        "id": "QT-xLUZIdYjs"
      },
      "outputs": [],
      "source": [
        "# 유튜브 영상-음성 다운로드(pytube 이용), url 직접 지정\n",
        "mov_y0 = 'https://www.youtube.com/watch?v=fhwQPPRGjTI&list=RDCMUC_tPId5myBusgodN1E1roxw&index=36' # 손해평가사, 06:09\n",
        "\n",
        "MOVIE_URL = mov_y0 #\n",
        "yt = pytube.YouTube(MOVIE_URL, use_oauth=False, allow_oauth_cache=True)\n",
        "movie_title = yt.title # 제목\n",
        "movie_target = yt.streams.filter(res='720p') # 영상포함\n",
        "if movie_target.count==0: #no movie with filtering condition\n",
        "    quit()\n",
        "else: #if movie is exist download first stream\n",
        "    print(movie_target[0]) # 정보: Stream 속성\n",
        "    print(movie_title) # /content/drive/MyDrive/movie/Vetnam\n",
        "    movie_file = movie_target[0].download('/content/drive/MyDrive/주택관리사시험/시설개론_mp4') # 영상전체, 폴더위치\n",
        "    files.download(movie_file) # local drive 다운로드\n",
        "    movie_target2 = yt.streams.filter(only_audio=True).first()#.download()\n",
        "    movie_file2 = movie_target2.download('/content/drive/MyDrive/주택관리사시험/시설개론_mp3') # 음성파일, 구글 드라이브 음성 폴더 위치\n",
        "print('영상파일: ', movie_file)\n",
        "print('음성파일: ', movie_file2)"
      ]
    },
    {
      "cell_type": "code",
      "execution_count": null,
      "metadata": {
        "id": "mZ5Isp5fKuwR"
      },
      "outputs": [],
      "source": [
        "from pytube import YouTube\n",
        "\n",
        "#유튜브 전용 인스턴스 생성\n",
        "yt = YouTube('https://www.youtube.com/watch?v=KQUQq3neRX0&list=PLCVaNo-c_XfhuN5cCc0vOck9X4EPtNSOb&index=1')\n",
        "\n",
        "print(yt.streams.filter(only_audio=True).all())\n",
        "\n",
        "# 특정영상 다운로드\n",
        "yt.streams.filter(only_audio=True).first().download()\n",
        "\n",
        "print('완료')"
      ]
    },
    {
      "cell_type": "code",
      "execution_count": null,
      "metadata": {
        "id": "Y-23wuSiLuEM"
      },
      "outputs": [],
      "source": [
        "from pytube import YouTube\n",
        "import os\n",
        "\n",
        "def downloadYouTube(videourl, path):\n",
        "    yt = YouTube(videourl)\n",
        "    yt = yt.streams.filter(progressive=True, file_extension='mp4').order_by('resolution').desc().first()\n",
        "    if not os.path.exists(path):\n",
        "        os.makedirs(path)\n",
        "        yt.download(path)\n",
        "\n",
        "video_path = 'https://www.youtube.com/watch?v=Aq3K7LIiHm8'\n",
        "downloadYouTube(video_path, 'videos')"
      ]
    },
    {
      "cell_type": "code",
      "execution_count": null,
      "metadata": {
        "id": "JFe9k6uO2dPf"
      },
      "outputs": [],
      "source": [
        "# 유튜브 목록(for문 반복)\n",
        "mov_y0 = 'https://www.youtube.com/watch?v=FHl9jE9rrNo&list=PLu3oMGKrICrnd5pgu29LmzlZ5UKgIjoLq&index=1' # 너무 쉬운 끌어당김의 과학적 원리, 07:00\n",
        "mov_y1 = 'https://www.youtube.com/watch?v=o-m5u7_qcvw&list=PLu3oMGKrICrnd5pgu29LmzlZ5UKgIjoLq&index=2' # 이 2개만 바꾸면 운명이 바뀌는 과학적인 이유, 07:36\n",
        "mov_y2 = 'https://www.youtube.com/watch?v=t6APmVBq5Cs&list=PLu3oMGKrICrnd5pgu29LmzlZ5UKgIjoLq&index=3' # 끌어당김을 양자역학으로 설명하다_5살도 이해하는 #끌어당김의법칙, 0744\n",
        "mov_y3 = 'https://www.youtube.com/watch?v=jlYYzYQt7Dg&list=PLu3oMGKrICrnd5pgu29LmzlZ5UKgIjoLq&index=4' # '이 공식'만 알면, 다 가졌다는 느낌을 [유발]할 수 있다, 0918\n",
        "mov_y4 = 'https://www.youtube.com/watch?v=3XBWhZdnre8&list=PLu3oMGKrICrnd5pgu29LmzlZ5UKgIjoLq&index=5' # 극소수의 성공인만 알고 있는 우주의 기묘한 작동방식, 1105\n",
        "mov_y5 = 'https://www.youtube.com/watch?v=ZxWPQimfwbk&list=PLu3oMGKrICrnd5pgu29LmzlZ5UKgIjoLq&index=6' # [끌어당김의 핵심]인 [현타 마인드] 로켓배송🚀 근데 이제 [양자역학]을 곁들인, 2240\n",
        "mov_y6 = 'https://www.youtube.com/watch?v=LJJ4iIc6xTY&list=PLu3oMGKrICrnd5pgu29LmzlZ5UKgIjoLq&index=7' # '행동'까지도 '끌어당길' 준비가 되었는가, 1900\n",
        "\n",
        "mov_y7 = 'https://www.youtube.com/watch?v=VKvPh-Q1UFw' # 순식간에 돈을 끌어당기는 3가지 마인드, 39:08\n",
        "mov_y8 = 'https://www.youtube.com/watch?v=ZxWPQimfwbk&t=848s' # [끌어당김의 핵심]인 [현타 마인드] 로켓배송🚀 근데 이제 [양자역학]을 곁들인,2240\n",
        "mov_y9 = 'https://www.youtube.com/watch?v=LJJ4iIc6xTY' # '행동'까지도 '끌어당길' 준비가 되었는가, 1900\n",
        "mov_y10 = 'https://www.youtube.com/watch?v=-D1NtfLZg2A' # 내 입맛대로 \"운명\"을 \"선택할\" 준비가 되었는가, 18:45\n",
        "mov_y11 = 'https://www.youtube.com/watch?v=GYp7lKEgCHU' # 이 1가지 마인드만 가지면, 주고 나서 ”100% 돌려받을 수 있다, 0825\n",
        "mov_y12 = 'https://www.youtube.com/watch?v=bo03ShfJL2c' # '이 마인드'가 없으면, 다 끌어당겨 놓은 것도 [받을 수가] 없어요, 1102\n",
        "\n",
        "# 영어 듣기, 영어인풋\n",
        "# https://www.youtube.com/watch?v=l8hVQtqjsDw&t=141s\n",
        "# https://www.youtube.com/watch?v=waM6I4XmvvE\n",
        "# https://www.youtube.com/watch?v=HTLwnPf8wbM\n",
        "# https://www.youtube.com/watch?v=CWvLoXJMrtM # 0531, 이거 다 들리면 영어쫌하네 소리 듣는분 | 분명 보면 아는데 들으면 안들리는 미드문장 10개\n",
        "# https://www.youtube.com/watch?v=UhuEm9PMjps # 0944 [영어쉐도잉] 미드와 영화에나오는 공항 관련문장\n",
        "# https://www.youtube.com/watch?v=qHehJI4-GEM # 0413 영어 잘하는 가장 현실적인 방법 3가지\n",
        "# https://www.youtube.com/watch?v=VVNHu2yazXo # 0512 미드로 배우는 take 외우지 말고 그냥 보면서 익히세요. take 뜻\n",
        "# https://www.youtube.com/watch?v=VJ79DjAkJcI # 0828 [영어회화] 외국인과 소통하기 위해 알아두면 무조건 도움되는 영어 패턴7개\n",
        "# https://www.youtube.com/watch?v=SiFukQo3DX4 # 0615 알아 놓으면 무한 활용가능한 원어민이 입에 달고사는 영어패턴 10\n",
        "\n",
        "list_3 = ['l8hVQtqjsDw&t=141s','waM6I4XmvvE','HTLwnPf8wbM','CWvLoXJMrtM','UhuEm9PMjps','qHehJI4-GEM','VVNHu2yazXo','VJ79DjAkJcI','SiFukQo3DX4']\n"
      ]
    },
    {
      "cell_type": "code",
      "execution_count": null,
      "metadata": {
        "colab": {
          "base_uri": "https://localhost:8080/"
        },
        "id": "wwGi_RkGuiIB",
        "outputId": "1d1728a9-2003-4323-bf59-3a9496b5fde6"
      },
      "outputs": [
        {
          "name": "stdout",
          "output_type": "stream",
          "text": [
            "<Stream: itag=\"22\" mime_type=\"video/mp4\" res=\"720p\" fps=\"30fps\" vcodec=\"avc1.64001F\" acodec=\"mp4a.40.2\" progressive=\"True\" type=\"video\">\n",
            "l8hVQtqjsDw&t=141s 우리 엄마도 하는 영어 중년영어 왕초보 쉬운영어 기초영어 한국어발음\n",
            "--------------------\n",
            "영상파일:  /content/drive/MyDrive/movie/En_listening/우리 엄마도 하는 영어 중년영어 왕초보 쉬운영어 기초영어 한국어발음.mp4\n",
            "음성파일:  /content/drive/MyDrive/movie/En_listening/mp3_listening/우리 엄마도 하는 영어 중년영어 왕초보 쉬운영어 기초영어 한국어발음.mp4\n",
            "----------------------------------------\n",
            "<Stream: itag=\"22\" mime_type=\"video/mp4\" res=\"720p\" fps=\"30fps\" vcodec=\"avc1.64001F\" acodec=\"mp4a.40.2\" progressive=\"True\" type=\"video\">\n",
            "waM6I4XmvvE 환갑 엄마도 술술 말하는 영어 쉬운영어 중년영어 한국어발음 기초 일상영어\n",
            "--------------------\n",
            "영상파일:  /content/drive/MyDrive/movie/En_listening/환갑 엄마도 술술 말하는 영어 쉬운영어 중년영어 한국어발음 기초 일상영어.mp4\n",
            "음성파일:  /content/drive/MyDrive/movie/En_listening/mp3_listening/환갑 엄마도 술술 말하는 영어 쉬운영어 중년영어 한국어발음 기초 일상영어.mp4\n",
            "----------------------------------------\n",
            "<Stream: itag=\"22\" mime_type=\"video/mp4\" res=\"720p\" fps=\"30fps\" vcodec=\"avc1.64001F\" acodec=\"mp4a.40.2\" progressive=\"True\" type=\"video\">\n",
            "HTLwnPf8wbM 미국인이 가장 많이 쓰는  how are you 대답 | 미드 모음집\n",
            "--------------------\n",
            "영상파일:  /content/drive/MyDrive/movie/En_listening/미국인이 가장 많이 쓰는  how are you 대답  미드 모음집.mp4\n",
            "음성파일:  /content/drive/MyDrive/movie/En_listening/mp3_listening/미국인이 가장 많이 쓰는  how are you 대답  미드 모음집.mp4\n",
            "----------------------------------------\n",
            "<Stream: itag=\"22\" mime_type=\"video/mp4\" res=\"720p\" fps=\"30fps\" vcodec=\"avc1.64001F\" acodec=\"mp4a.40.2\" progressive=\"True\" type=\"video\">\n",
            "CWvLoXJMrtM 이거 다 들리면 영어쫌하네 소리 듣는분 | 분명 보면 아는데 들으면 안들리는 미드문장 10개\n",
            "--------------------\n",
            "영상파일:  /content/drive/MyDrive/movie/En_listening/이거 다 들리면 영어쫌하네 소리 듣는분  분명 보면 아는데 들으면 안들리는 미드문장 10개.mp4\n",
            "음성파일:  /content/drive/MyDrive/movie/En_listening/mp3_listening/이거 다 들리면 영어쫌하네 소리 듣는분  분명 보면 아는데 들으면 안들리는 미드문장 10개.mp4\n",
            "----------------------------------------\n",
            "<Stream: itag=\"22\" mime_type=\"video/mp4\" res=\"720p\" fps=\"30fps\" vcodec=\"avc1.64001F\" acodec=\"mp4a.40.2\" progressive=\"True\" type=\"video\">\n",
            "UhuEm9PMjps [영어쉐도잉] 미드와 영화에나오는 공항 관련문장 이제부터 이 문장은 공항에서 노력없이 들리게 될겁니다. #미드쉐도잉 #영어회화 #공항영어 #공부 #영어독학 #한글발음표기\n",
            "--------------------\n",
            "영상파일:  /content/drive/MyDrive/movie/En_listening/[영어쉐도잉] 미드와 영화에나오는 공항 관련문장 이제부터 이 문장은 공항에서 노력없이 들리게 될겁니다 미드쉐도잉 영어회화 공항영어 공부 영어독학 한글발음표기.mp4\n",
            "음성파일:  /content/drive/MyDrive/movie/En_listening/mp3_listening/[영어쉐도잉] 미드와 영화에나오는 공항 관련문장 이제부터 이 문장은 공항에서 노력없이 들리게 될겁니다 미드쉐도잉 영어회화 공항영어 공부 영어독학 한글발음표기.mp4\n",
            "----------------------------------------\n",
            "<Stream: itag=\"22\" mime_type=\"video/mp4\" res=\"720p\" fps=\"30fps\" vcodec=\"avc1.64001F\" acodec=\"mp4a.40.2\" progressive=\"True\" type=\"video\">\n",
            "qHehJI4-GEM 영어 잘하는 가장 현실적인 방법 3가지 공개합니다 제발 이거 보고 외국인이랑 농담따먹기 하세요 #영어공부 #영어회화 #원어민영어\n",
            "--------------------\n",
            "영상파일:  /content/drive/MyDrive/movie/En_listening/영어 잘하는 가장 현실적인 방법 3가지 공개합니다 제발 이거 보고 외국인이랑 농담따먹기 하세요 영어공부 영어회화 원어민영어.mp4\n",
            "음성파일:  /content/drive/MyDrive/movie/En_listening/mp3_listening/영어 잘하는 가장 현실적인 방법 3가지 공개합니다 제발 이거 보고 외국인이랑 농담따먹기 하세요 영어공부 영어회화 원어민영어.mp4\n",
            "----------------------------------------\n",
            "<Stream: itag=\"22\" mime_type=\"video/mp4\" res=\"720p\" fps=\"30fps\" vcodec=\"avc1.64001F\" acodec=\"mp4a.40.2\" progressive=\"True\" type=\"video\">\n",
            "VVNHu2yazXo 미드로 배우는 take 외우지 말고 그냥 보면서 익히세요. take 뜻\n",
            "--------------------\n",
            "영상파일:  /content/drive/MyDrive/movie/En_listening/미드로 배우는 take 외우지 말고 그냥 보면서 익히세요 take 뜻.mp4\n",
            "음성파일:  /content/drive/MyDrive/movie/En_listening/mp3_listening/미드로 배우는 take 외우지 말고 그냥 보면서 익히세요 take 뜻.mp4\n",
            "----------------------------------------\n",
            "<Stream: itag=\"22\" mime_type=\"video/mp4\" res=\"720p\" fps=\"30fps\" vcodec=\"avc1.64001F\" acodec=\"mp4a.40.2\" progressive=\"True\" type=\"video\">\n",
            "VJ79DjAkJcI [영어회화] 외국인과 소통하기 위해 알아두면 무조건 도움되는 영어 패턴7개 | 흘려듣는 영어 | 힐링영어 외우지 마세요 그냥 틀어 놓으세요\n",
            "--------------------\n",
            "영상파일:  /content/drive/MyDrive/movie/En_listening/[영어회화] 외국인과 소통하기 위해 알아두면 무조건 도움되는 영어 패턴7개  흘려듣는 영어  힐링영어 외우지 마세요 그냥 틀어 놓으세요.mp4\n",
            "음성파일:  /content/drive/MyDrive/movie/En_listening/mp3_listening/[영어회화] 외국인과 소통하기 위해 알아두면 무조건 도움되는 영어 패턴7개  흘려듣는 영어  힐링영어 외우지 마세요 그냥 틀어 놓으세요.mp4\n",
            "----------------------------------------\n",
            "<Stream: itag=\"22\" mime_type=\"video/mp4\" res=\"720p\" fps=\"30fps\" vcodec=\"avc1.64001F\" acodec=\"mp4a.40.2\" progressive=\"True\" type=\"video\">\n",
            "SiFukQo3DX4 알아 놓으면 무한 활용가능한 원어민이 입에 달고사는 영어패턴 10\n",
            "--------------------\n",
            "영상파일:  /content/drive/MyDrive/movie/En_listening/알아 놓으면 무한 활용가능한 원어민이 입에 달고사는 영어패턴 10.mp4\n",
            "음성파일:  /content/drive/MyDrive/movie/En_listening/mp3_listening/알아 놓으면 무한 활용가능한 원어민이 입에 달고사는 영어패턴 10.mp4\n",
            "----------------------------------------\n"
          ]
        }
      ],
      "source": [
        "# from IPython.core.display import Javascript\n",
        "# 유튜브 영상-음성 다운로드_2(for문 반복, 변수 1개)\n",
        "\n",
        "list_1 = ['FHl9jE9rrNo', 'o-m5u7_qcvw', 't6APmVBq5Cs', 'jlYYzYQt7Dg', '3XBWhZdnre8', 'ZxWPQimfwbk', 'LJJ4iIc6xTY']\n",
        "list_3 = ['l8hVQtqjsDw&t=141s','waM6I4XmvvE','HTLwnPf8wbM','CWvLoXJMrtM','UhuEm9PMjps','qHehJI4-GEM','VVNHu2yazXo','VJ79DjAkJcI','SiFukQo3DX4']\n",
        "\n",
        "for i in list_3:\n",
        "    MOVIE_URL = f'https://www.youtube.com/watch?v={i}'\n",
        "\n",
        "    yt = pytube.YouTube(MOVIE_URL, use_oauth=False, allow_oauth_cache=True)\n",
        "    movie_title = yt.title # 제목\n",
        "    movie_target = yt.streams.filter(res='720p') # 영상포함\n",
        "    if movie_target.count==0: #no movie with filtering condition\n",
        "        quit()\n",
        "    else: #if movie is exist download first stream\n",
        "        print(movie_target[0]) # 정보: Stream 속성\n",
        "        print(i, movie_title)\n",
        "        print(\"--\"*10)\n",
        "        movie_file = movie_target[0].download('/content/drive/MyDrive/movie/En_listening') # 영상전체, 폴더위치\n",
        "        movie_target2 = yt.streams.filter(only_audio=True).first()#.download()\n",
        "        movie_file2 = movie_target2.download('/content/drive/MyDrive/movie/En_listening/mp3_listening') # 음성파일, 구글 드라이브 음성 폴더 위치\n",
        "    print('영상파일: ', movie_file)\n",
        "    print('음성파일: ', movie_file2)\n",
        "    print(\"--\"*20)"
      ]
    },
    {
      "cell_type": "code",
      "execution_count": null,
      "metadata": {
        "colab": {
          "base_uri": "https://localhost:8080/"
        },
        "id": "LeiyWoOM_BEO",
        "outputId": "35d52b02-8c65-4a48-861b-93f2547108f1"
      },
      "outputs": [
        {
          "name": "stdout",
          "output_type": "stream",
          "text": [
            "<Stream: itag=\"22\" mime_type=\"video/mp4\" res=\"720p\" fps=\"30fps\" vcodec=\"avc1.64001F\" acodec=\"mp4a.40.2\" progressive=\"True\" type=\"video\">\n",
            "너무 쉬운 끌어당김의 과학적 원리\n",
            "--------------------\n",
            "영상파일:  /content/drive/MyDrive/movie/quantum_jinsolmy/너무 쉬운 끌어당김의 과학적 원리.mp4\n",
            "음성파일:  /content/drive/MyDrive/movie/quantum_jinsolmy/vocie_quantum/너무 쉬운 끌어당김의 과학적 원리.mp4\n",
            "----------------------------------------\n",
            "<Stream: itag=\"22\" mime_type=\"video/mp4\" res=\"720p\" fps=\"30fps\" vcodec=\"avc1.64001F\" acodec=\"mp4a.40.2\" progressive=\"True\" type=\"video\">\n",
            "이 2개만 바꾸면 운명이 바뀌는 과학적인 이유\n",
            "--------------------\n",
            "영상파일:  /content/drive/MyDrive/movie/quantum_jinsolmy/이 2개만 바꾸면 운명이 바뀌는 과학적인 이유.mp4\n",
            "음성파일:  /content/drive/MyDrive/movie/quantum_jinsolmy/vocie_quantum/이 2개만 바꾸면 운명이 바뀌는 과학적인 이유.mp4\n",
            "----------------------------------------\n",
            "<Stream: itag=\"22\" mime_type=\"video/mp4\" res=\"720p\" fps=\"30fps\" vcodec=\"avc1.64001F\" acodec=\"mp4a.40.2\" progressive=\"True\" type=\"video\">\n",
            "끌어당김을 양자역학으로 설명하다_5살도 이해하는 #끌어당김의법칙\n",
            "--------------------\n",
            "영상파일:  /content/drive/MyDrive/movie/quantum_jinsolmy/끌어당김을 양자역학으로 설명하다_5살도 이해하는 끌어당김의법칙.mp4\n",
            "음성파일:  /content/drive/MyDrive/movie/quantum_jinsolmy/vocie_quantum/끌어당김을 양자역학으로 설명하다_5살도 이해하는 끌어당김의법칙.mp4\n",
            "----------------------------------------\n",
            "<Stream: itag=\"22\" mime_type=\"video/mp4\" res=\"720p\" fps=\"30fps\" vcodec=\"avc1.64001F\" acodec=\"mp4a.40.2\" progressive=\"True\" type=\"video\">\n",
            "'이 공식'만 알면, 다 가졌다는 느낌을 [유발]할 수 있다\n",
            "--------------------\n",
            "영상파일:  /content/drive/MyDrive/movie/quantum_jinsolmy/이 공식만 알면 다 가졌다는 느낌을 [유발]할 수 있다.mp4\n",
            "음성파일:  /content/drive/MyDrive/movie/quantum_jinsolmy/vocie_quantum/이 공식만 알면 다 가졌다는 느낌을 [유발]할 수 있다.mp4\n",
            "----------------------------------------\n",
            "<Stream: itag=\"22\" mime_type=\"video/mp4\" res=\"720p\" fps=\"30fps\" vcodec=\"avc1.64001F\" acodec=\"mp4a.40.2\" progressive=\"True\" type=\"video\">\n",
            "극소수의 성공인만 알고 있는 우주의 기묘한 작동방식\n",
            "--------------------\n",
            "영상파일:  /content/drive/MyDrive/movie/quantum_jinsolmy/극소수의 성공인만 알고 있는 우주의 기묘한 작동방식.mp4\n",
            "음성파일:  /content/drive/MyDrive/movie/quantum_jinsolmy/vocie_quantum/극소수의 성공인만 알고 있는 우주의 기묘한 작동방식.mp4\n",
            "----------------------------------------\n",
            "<Stream: itag=\"22\" mime_type=\"video/mp4\" res=\"720p\" fps=\"30fps\" vcodec=\"avc1.64001F\" acodec=\"mp4a.40.2\" progressive=\"True\" type=\"video\">\n",
            "[끌어당김의 핵심]인 [현타 마인드] 로켓배송🚀 근데 이제 [양자역학]을 곁들인.\n",
            "--------------------\n",
            "영상파일:  /content/drive/MyDrive/movie/quantum_jinsolmy/[끌어당김의 핵심]인 [현타 마인드] 로켓배송🚀 근데 이제 [양자역학]을 곁들인.mp4\n",
            "음성파일:  /content/drive/MyDrive/movie/quantum_jinsolmy/vocie_quantum/[끌어당김의 핵심]인 [현타 마인드] 로켓배송🚀 근데 이제 [양자역학]을 곁들인.mp4\n",
            "----------------------------------------\n",
            "<Stream: itag=\"22\" mime_type=\"video/mp4\" res=\"720p\" fps=\"30fps\" vcodec=\"avc1.64001F\" acodec=\"mp4a.40.2\" progressive=\"True\" type=\"video\">\n",
            "'행동'까지도 '끌어당길' 준비가 되었는가\n",
            "--------------------\n",
            "영상파일:  /content/drive/MyDrive/movie/quantum_jinsolmy/행동까지도 끌어당길 준비가 되었는가.mp4\n",
            "음성파일:  /content/drive/MyDrive/movie/quantum_jinsolmy/vocie_quantum/행동까지도 끌어당길 준비가 되었는가.mp4\n",
            "----------------------------------------\n"
          ]
        }
      ],
      "source": [
        "# 유튜브 영상-음성 다운로드_2(for문 반복, 변수 2개)\n",
        "\n",
        "list_2 = ['FHl9jE9rrNo', 'o-m5u7_qcvw', 't6APmVBq5Cs', 'jlYYzYQt7Dg', '3XBWhZdnre8', 'ZxWPQimfwbk', 'LJJ4iIc6xTY']\n",
        "\n",
        "for i, name in enumerate(list_2, 1): # i는 1부터 시작\n",
        "    MOVIE_URL = f'https://www.youtube.com/watch?v={name}&list=PLu3oMGKrICrnd5pgu29LmzlZ5UKgIjoLq&index={i}'\n",
        "\n",
        "    yt = pytube.YouTube(MOVIE_URL, use_oauth=False, allow_oauth_cache=True)\n",
        "    movie_title = yt.title # 제목\n",
        "    movie_target = yt.streams.filter(res='720p') # 영상포함\n",
        "    if movie_target.count==0: #no movie with filtering condition\n",
        "        quit()\n",
        "    else: #if movie is exist download first stream\n",
        "        print(movie_target[0]) # 정보: Stream 속성\n",
        "        print(i, movie_title)\n",
        "        print(\"--\"*10)\n",
        "        movie_file = movie_target[0].download('/content/drive/MyDrive/movie/quantum_jinsolmy') # 영상전체, 폴더위치\n",
        "        movie_target2 = yt.streams.filter(only_audio=True).first()#.download()\n",
        "        movie_file2 = movie_target2.download('/content/drive/MyDrive/movie/quantum_jinsolmy/vocie_quantum') # 음성파일, 구글 드라이브 음성 폴더 위치\n",
        "    print('영상파일: ', movie_file)\n",
        "    print('음성파일: ', movie_file2)\n",
        "    print(\"--\"*20)"
      ]
    },
    {
      "cell_type": "code",
      "execution_count": null,
      "metadata": {
        "id": "rJ-T4usNdwSw"
      },
      "outputs": [],
      "source": [
        "# 유튜브 음원만 추출??\n",
        "from pytube import YouTube\n",
        "import glob\n",
        "import os.path\n",
        "\n",
        "#유튜브 전용 인스턴스 생성\n",
        "url_y = \"https://www.youtube.com/watch?v=NCnE94PUlhg\"\n",
        "yt = YouTube(url_y)\n",
        "movie_title = yt.title # 제목\n",
        "movie_target = yt.streams\n",
        "#yt.streams.filter(only_audio=True).all().download('/content/drive/MyDrive/Voice/')\n",
        "\n",
        "# 특정영상 다운로드\n",
        "yt.streams.filter(only_audio=True).first().download('/content/drive/MyDrive/Voice/')\n",
        "print('속성:', movie_target)\n",
        "print('제목:', movie_title)\n",
        "\n",
        "# 확장자 변경??\n",
        "files = glob.glob(\"*.mp4\")\n",
        "for x in files:\n",
        "\tif not os.path.isdir(x):\n",
        "\t\tfilename = os.path.splitext(x)\n",
        "\t\ttry:\n",
        "\t\t\tos.rename(x,filename[0] + '.mp3')\n",
        "\t\texcept:\n",
        "\t\t\tpass"
      ]
    },
    {
      "cell_type": "code",
      "execution_count": null,
      "metadata": {
        "id": "oNIhdr4wLRor"
      },
      "outputs": [],
      "source": [
        "## 동영상\n",
        "# 카메라로부터 영상 가져오기 ??\n",
        "cap = cv2.VideoCapture(0) #비디오의 개수만큼 객체 생성\n",
        "ret, img = cap.read() #카메라로부터 이미지 한장을 가져옴\n",
        "cv2_imshow(img) #??\n",
        "cv2.waitKey(0) #아무키나 누르기 전까지 대기\n",
        "cap.release() #자원 메모리 해제\n",
        "cv2.destroyAllWindows()"
      ]
    },
    {
      "cell_type": "code",
      "execution_count": null,
      "metadata": {
        "id": "ZZ3-kEE_LViq"
      },
      "outputs": [],
      "source": [
        "# 카메라(웹캠) 프레임 읽기 (video_cam.py)\n",
        "cap = cv2.VideoCapture(0)               # 0번 카메라 장치 연결 ---①\n",
        "if cap.isOpened():                      # 캡쳐 객체 연결 확인\n",
        "    while True:\n",
        "        ret, img = cap.read()           # 다음 프레임 읽기\n",
        "        if ret:\n",
        "            cv2.imshow('camera', img)   # 다음 프레임 이미지 표시\n",
        "            if cv2.waitKey(1) != -1:    # 1ms 동안 키 입력 대기 ---②\n",
        "                break                   # 아무 키라도 입력이 있으면 중지\n",
        "        else:\n",
        "            print('no frame')\n",
        "            break\n",
        "else:\n",
        "    print(\"can't open camera.\")\n",
        "cap.release()                           # 자원 반납\n",
        "cv2.destroyAllWindows()"
      ]
    },
    {
      "cell_type": "code",
      "execution_count": null,
      "metadata": {
        "id": "-AkzITT9LZpa"
      },
      "outputs": [],
      "source": [
        "# 동영상 파일 읽기 (video_play.py)\n",
        "video_file = \"/content/drive/MyDrive/Images/video_clips/highway.mp4\" # 동영상 파일 경로\n",
        "cap = cv2.VideoCapture(video_file) # 동영상 캡쳐 객체 생성  ---①\n",
        "if cap.isOpened():                 # 캡쳐 객체 초기화 확인\n",
        "    while True:\n",
        "        ret, img = cap.read()      # 다음 프레임 읽기      --- ②\n",
        "        if ret:                     # 프레임 읽기 정상\n",
        "            cv2_imshow(img) # 화면에 표시  --- ③\n",
        "            cv2.waitKey(25)            # 25ms 지연(40fps로 가정)   --- ④\n",
        "        else:                       # 다음 프레임 읽을 수 없슴,\n",
        "            break                   # 재생 완료\n",
        "else:\n",
        "    print(\"can't open video.\")      # 캡쳐 객체 초기화 실패\n",
        "cap.release()                       # 캡쳐 자원 반납\n",
        "cv2.destroyAllWindows()"
      ]
    },
    {
      "cell_type": "code",
      "execution_count": null,
      "metadata": {
        "id": "atMzkdGILdWC"
      },
      "outputs": [],
      "source": [
        "# 동영상 파일\n",
        "video_file = \"/content/drive/MyDrive/Images/video_clips/highway.mp4\" # 동영상 파일 경로\n",
        "cap = cv2.VideoCapture(video_file)\n",
        "fourcc = cv2.VideoWriter_fourcc(* 'XVID')\n",
        "while(True):\n",
        "    ret, img = cap.read()\n",
        "    if ret == False: #동영상을 끝까지 재생하면 무한루프에서 빠져나옴\n",
        "        break\n",
        "    cv2_imshow(img) # \"Color\",\n",
        "\n",
        "    #키보드 입력을 받기 위해서 대기시간 1초 줌\n",
        "    if cv2.waitKey(1)&0xFF == 27:\n",
        "        breakpoint\n",
        "\n",
        "#자원 메모리 해제\n",
        "cap.release()\n",
        "cv2.destroyAllWindows()"
      ]
    },
    {
      "cell_type": "code",
      "execution_count": null,
      "metadata": {
        "id": "WaWamh8iLhXS"
      },
      "outputs": [],
      "source": [
        "# 경로에 파일 확인\n",
        "mov_1 = \"highway.mp4\"\n",
        "mov_2 = \"big_buck.avi\"\n",
        "mov_3 = \"walking.avi\"\n",
        "\n",
        "path = '/content/drive/MyDrive/Images/video_clips'\n",
        "filePath = os.path.join(path, mov_3)\n",
        "print(filePath)\n",
        "\n",
        "if os.path.isfile(filePath):\t# 해당 파일이 있는지 확인\n",
        "    # 영상 객체(파일) 가져오기\n",
        "    cap = cv2.VideoCapture(filePath)\n",
        "else:\n",
        "    print(\"파일이 존재하지 않습니다.\")\n",
        "\n",
        "# 프레임을 정수형으로 형 변환\n",
        "frameWidth = int(cap.get(cv2.CAP_PROP_FRAME_WIDTH))\t# 영상의 넓이(가로) 프레임\n",
        "frameHeight = int(cap.get(cv2.CAP_PROP_FRAME_HEIGHT))\t# 영상의 높이(세로) 프레임\n",
        "\n",
        "frame_size = (frameWidth, frameHeight)\n",
        "print('frame_size={}'.format(frame_size))"
      ]
    },
    {
      "cell_type": "code",
      "execution_count": null,
      "metadata": {
        "id": "X58dRVsnLlrR"
      },
      "outputs": [],
      "source": [
        "frameRate = 33\n",
        "while True:\n",
        "    # 한 장의 이미지(frame)를 가져오기, # 영상 : 이미지(프레임)의 연속\n",
        "    retval, frame = cap.read()  # 정상적으로 읽어왔는지 -> retval, # 읽어온 프레임 -> frame\n",
        "    if not(retval):\t# 프레임정보를 정상적으로 읽지 못하면\n",
        "        break  # while문을 빠져나가기\n",
        "\n",
        "    cv2_imshow(frame)\t# 프레임 보여주기, 'frame',\n",
        "    key = cv2.waitKey(frameRate)  # frameRate msec동안 한 프레임을 보여준다\n",
        "\n",
        "    # 키 입력을 받으면 키값을 key로 저장 -> esc == 27(아스키코드)\n",
        "    if key == 27:\n",
        "        break\t# while문을 빠져나가기\n",
        "\n",
        "if cap.isOpened():\t# 영상 파일(카메라)이 정상적으로 열렸는지(초기화되었는지) 여부\n",
        "    cap.release()\t# 영상 파일(카메라) 사용을 종료\n",
        "\n",
        "cv2.destroyAllWindows()"
      ]
    },
    {
      "cell_type": "code",
      "execution_count": null,
      "metadata": {
        "id": "4T-jghlVLrGD"
      },
      "outputs": [],
      "source": [
        "# 카메라 대신 youtube영상으로 대체 #\n",
        "url = 'https://www.youtube.com/watch?v=u_Q7Dkl7AIk'\n",
        "video = pafy.new(url)\n",
        "print('title = ', video.title)\n",
        "print('video.rating = ', video.rating)\n",
        "print('video.duration = ', video.duration)\n",
        "\n",
        "best = video.getbest(preftype='mp4')     # 'webm','3gp'\n",
        "print('best.resolution', best.resolution)\n",
        "\n",
        "cap=cv2.VideoCapture(best.url)\n",
        "#########################################################\n",
        "\n",
        "#cap = cv2.VideoCapture(0) # 0번 카메라\n",
        "\n",
        "# frame 사이즈\n",
        "frame_size = (int(cap.get(cv2.CAP_PROP_FRAME_WIDTH)),\n",
        "              int(cap.get(cv2.CAP_PROP_FRAME_HEIGHT)))\n",
        "print('frame_size =', frame_size)\n",
        "\n",
        "# 코덱 설정하기\n",
        "#fourcc = cv2.VideoWriter_fourcc(*'DIVX')  # ('D', 'I', 'V', 'X')\n",
        "fourcc = cv2.VideoWriter_fourcc(*'XVID')\n",
        "\n",
        "# 이미지 저장하기 위한 영상 파일 생성\n",
        "out1 = cv2.VideoWriter('./data/record0.mp4',fourcc, 20.0, frame_size)\n",
        "out2 = cv2.VideoWriter('./data/record1.mp4',fourcc, 20.0, frame_size,isColor=False)\n",
        "\n",
        "while True:\n",
        "    retval, frame = cap.read()\t# 영상을 한 frame씩 읽어오기\n",
        "    if not retval:\n",
        "        break\n",
        "\n",
        "    out1.write(frame)\t# 영상 파일에 저장\n",
        "\n",
        "    # 이미지 컬러 변환\n",
        "    gray = cv2.cvtColor(frame, cv2.COLOR_BGR2GRAY)\n",
        "\n",
        "    out2.write(gray)\t# 영상 파일에 저장\n",
        "\n",
        "    cv2.imshow('frame',frame)\t# 이미지 보여주기\n",
        "    cv2.imshow('gray',gray)\n",
        "\n",
        "    key = cv2.waitKey(25)\n",
        "    if key == 27:\n",
        "        break\n",
        "\n",
        "cap.release()\t# 객체 해제\n",
        "out1.release()\n",
        "out2.release()\n",
        "cv2.destroyAllWindows()"
      ]
    },
    {
      "cell_type": "code",
      "execution_count": null,
      "metadata": {
        "id": "U4g8xtuhL1q5"
      },
      "outputs": [],
      "source": [
        "# 해당 스트림 속성 정보\n",
        "for each in yt.streams:\n",
        "    print(each)"
      ]
    },
    {
      "cell_type": "code",
      "execution_count": null,
      "metadata": {
        "id": "P208Es8pL4jJ"
      },
      "outputs": [],
      "source": [
        "for each in yt.streams.filter(type='audio'): # 필터링\n",
        "    print(each)"
      ]
    },
    {
      "cell_type": "code",
      "execution_count": null,
      "metadata": {
        "id": "jPNGZOYDL7Wj"
      },
      "outputs": [],
      "source": [
        "# 필터링 동영상 파일 저장\n",
        "movie_target = yt.streams.filter(type='audio')\n",
        "\n",
        "if movie_target.count==0: #no movie with filtering condition\n",
        "    quit()\n",
        "else: #if movie is exist, download first stream\n",
        "    print(movie_target[1])\n",
        "    movie_file = movie_target[1].download('/content/drive/MyDrive/Images/video_clips/En_speaking_2m') # 폴더 위치\n",
        "print('download 완료: ', movie_file)"
      ]
    },
    {
      "cell_type": "code",
      "execution_count": null,
      "metadata": {
        "id": "yQJ56dq2L-5h"
      },
      "outputs": [],
      "source": [
        "MOVIE_URL = mov_y3\n",
        "yt = pytube.YouTube(MOVIE_URL, use_oauth=False, allow_oauth_cache=True)\n",
        "movie_title = yt.title # 제목\n",
        "print('target movie: ' + movie_title)"
      ]
    },
    {
      "cell_type": "code",
      "execution_count": null,
      "metadata": {
        "id": "5F9-OXMeMDZZ"
      },
      "outputs": [],
      "source": [
        "# 유튜브에서 음성만 추출, 저장\n",
        "from moviepy.editor\n",
        "import pytube\n",
        "import os.path\n",
        "\n",
        "# 다운로드 받을 파일 경로\n",
        "path = r'/content/drive/MyDrive/Images/video_clips/En_speaking_2m'\n",
        "\n",
        "def download_mp3(link):\n",
        "\tglobal path\n",
        "    yt = pytube.YouTube(link) # 유튜브 영상 제목 추출, mp3 파일명으로 사용\n",
        "    file_name = yt.title\n",
        "    full_path = str(path+\"/\"+str(file_name)) # 유튜브 영상을 소리만 있는 mp4파일로 다운로드\n",
        "    yt.streams.filter(adaptive=True, file_extension='mp4', only_audio=True).order_by( 'abr').desc().first().download(path, str(file_name)+'.mp4') # 파일 변환, mp4 -> mp3\n",
        "    try:\n",
        "    \tos.rename(full_path + '.mp4', full_path + '.mp3')\n",
        "    \tprint(\"성공\")\n",
        "    except:\n",
        "    \tos.remove(full_path + '.mp4')\n",
        "        print(\"파일 이미 mp3파일이 있거나, 다른 오류가 발생함\") # 비디오 링크\n",
        "\n",
        "video_link = 'https://www.youtube.com/watch?v=apUX6-jd_qM&t=126s'\n",
        "download_mp3(video_link)"
      ]
    },
    {
      "cell_type": "code",
      "execution_count": null,
      "metadata": {
        "id": "xwQtkMjCMGNg"
      },
      "outputs": [],
      "source": [
        "# 동영상에서 음성 추출\n",
        "!pip install SpeechRecognition moviepy\n",
        "import speech_recognition as sr\n",
        "import moviepy.editor as mp"
      ]
    },
    {
      "cell_type": "code",
      "execution_count": null,
      "metadata": {
        "id": "2-X_A04uMKUB"
      },
      "outputs": [],
      "source": [
        "# 비디오 2 오디오 전환\n",
        "mov_1 = '/content/drive/MyDrive/Images/video_clips/En_speaking_2m/sm_1m_01.mp4'\n",
        "mov_2 = '/content/drive/MyDrive/Images/video_clips/En_speaking_2m/sm_c1m_01.mp3'\n",
        "\n",
        "clip = mp.VideoFileClip(mov_1)\n",
        "\n",
        "clip.audio.write_audiofile(mov_2)"
      ]
    }
  ],
  "metadata": {
    "colab": {
      "provenance": [],
      "mount_file_id": "1_HmXGWnY9euZIlY42fmO-Fuo7x84GjCm",
      "authorship_tag": "ABX9TyNlOl3DPiAiheDzMxIwurVQ",
      "include_colab_link": true
    },
    "kernelspec": {
      "display_name": "Python 3",
      "name": "python3"
    },
    "language_info": {
      "name": "python"
    }
  },
  "nbformat": 4,
  "nbformat_minor": 0
}