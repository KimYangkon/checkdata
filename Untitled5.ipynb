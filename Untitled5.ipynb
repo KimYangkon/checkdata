{
  "nbformat": 4,
  "nbformat_minor": 0,
  "metadata": {
    "colab": {
      "provenance": [],
      "authorship_tag": "ABX9TyPt3vuHaMPUSagDJJrmMi9s",
      "include_colab_link": true
    },
    "kernelspec": {
      "name": "python3",
      "display_name": "Python 3"
    },
    "language_info": {
      "name": "python"
    }
  },
  "cells": [
    {
      "cell_type": "markdown",
      "metadata": {
        "id": "view-in-github",
        "colab_type": "text"
      },
      "source": [
        "<a href=\"https://colab.research.google.com/github/KimYangkon/checkdata/blob/main/Untitled5.ipynb\" target=\"_parent\"><img src=\"https://colab.research.google.com/assets/colab-badge.svg\" alt=\"Open In Colab\"/></a>"
      ]
    },
    {
      "cell_type": "code",
      "execution_count": null,
      "metadata": {
        "id": "CEBAQdgzf3Ir"
      },
      "outputs": [],
      "source": [
        "# 온돌 및 난방설비 설치기준(제17회 기출)\n",
        "1. 바탕층이 지면에 접하는 경우 바탕층 아래와 주변 벽면에 높이 5cm 이상의 방수처리를 하여야 한다. (x)\n",
        "해설 : 바탕층이 지면에 접하는 경우에는 바탕층 아래와 주변 벽면에 높이 10cm 이상의 방수처리를 하여야 하며, 단열재 윗부분에 방습처리를 하여야 한다.\n",
        "https://blog.naver.com/paju97/220210364114\n",
        "\n",
        "# 결합통기관(제15회 기출)\n",
        "2. 결합통기관은 배수수직관 내 압력변동을 완화하기 위한 목적으로 배수수직관과 통기수직관을 연결한다. (O)\n",
        "해설 : 결합통기관은 배수수직관과 통기수직주관을 연결하는 통기관으로 5개층마다 연결하는 통기관입니다.\n",
        "https://m.blog.naver.com/kirasungjin/221185856205\n",
        "https://blog.naver.com/jaeminjake/221744546749"
      ]
    }
  ]
}
